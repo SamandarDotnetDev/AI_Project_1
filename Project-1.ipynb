{
 "cells": [
  {
   "cell_type": "code",
   "execution_count": 7,
   "metadata": {},
   "outputs": [
    {
     "ename": "SyntaxError",
     "evalue": "incomplete input (2107031220.py, line 50)",
     "output_type": "error",
     "traceback": [
      "\u001b[1;36m  Cell \u001b[1;32mIn[7], line 50\u001b[1;36m\u001b[0m\n\u001b[1;33m    for i in range(itaration):\u001b[0m\n\u001b[1;37m                              ^\u001b[0m\n\u001b[1;31mSyntaxError\u001b[0m\u001b[1;31m:\u001b[0m incomplete input\n"
     ]
    }
   ],
   "source": [
    "with open('data.txt','r') as file:\n",
    "  data=file.readlines()\n",
    "t=[]\n",
    "mt=[]\n",
    "for i in (data):\n",
    "  for j in i.split():\n",
    "    mt.append(t)\n",
    "    t=[]\n",
    "for i in mt:\n",
    "  print(i)\n",
    "X=[]\n",
    "Y=[]\n",
    "Z=[]\n",
    "for i in mt:\n",
    "  for j in range(len(i)-1):\n",
    "    x.append(i[j])\n",
    "  X.append(x)\n",
    "  x=[]\n",
    "  Y.append(i[-1])\n",
    "for i in X:\n",
    "  print(i)\n",
    "print('Y')\n",
    "for i in Y:\n",
    "  print(i)\n",
    "def summa(x,w,b):\n",
    "  s=0\n",
    "  for i in range(len(w)):\n",
    "    s+=w[i]*x[i]\n",
    "  return s+b\n",
    "def change(alpha,n,x,w,y,b):\n",
    "  W=[]\n",
    "  s=0\n",
    "  for j in range(len(w)):\n",
    "    for i in range(n):\n",
    "      s+=(summa(x[i],w,b)-y[i])*x[j]\n",
    "    W.append(w[j]+2*s*alpha/n)\n",
    "  return W\n",
    "def loss_function(n,x,w,y):\n",
    "  s=0\n",
    "  for i in range(n):\n",
    "    s+=(summa(x[i],w)-y[i])**2\n",
    "  return s/n\n",
    "alpha=0.1\n",
    "itaration=100\n",
    "bias=1\n",
    "w=[0]*(len(X[1]))\n",
    "print('w:',w)\n",
    "eps=0.1\n",
    "n=len(mt)\n",
    "for i in range(itaration):\n",
    "  E1=loss_function(n,X,W,Y)\n"
   ]
  },
  {
   "cell_type": "code",
   "execution_count": null,
   "metadata": {},
   "outputs": [],
   "source": [
    "w=[0]*2\n",
    "print(x,w)"
   ]
  }
 ],
 "metadata": {
  "kernelspec": {
   "display_name": "Python 3",
   "language": "python",
   "name": "python3"
  },
  "language_info": {
   "codemirror_mode": {
    "name": "ipython",
    "version": 3
   },
   "file_extension": ".py",
   "mimetype": "text/x-python",
   "name": "python",
   "nbconvert_exporter": "python",
   "pygments_lexer": "ipython3",
   "version": "3.10.11"
  },
  "orig_nbformat": 4
 },
 "nbformat": 4,
 "nbformat_minor": 2
}
